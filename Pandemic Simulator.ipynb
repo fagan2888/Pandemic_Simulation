{
 "cells": [
  {
   "cell_type": "code",
   "execution_count": 1,
   "metadata": {},
   "outputs": [
    {
     "name": "stdout",
     "output_type": "stream",
     "text": [
      "Requirement already satisfied: ndlib in c:\\users\\johna\\miniconda3\\lib\\site-packages (5.1.0)\n",
      "Requirement already satisfied: netdispatch in c:\\users\\johna\\miniconda3\\lib\\site-packages (from ndlib) (0.0.6)\n",
      "Requirement already satisfied: future in c:\\users\\johna\\miniconda3\\lib\\site-packages (from ndlib) (0.18.2)\n",
      "Requirement already satisfied: python-igraph in c:\\users\\johna\\miniconda3\\lib\\site-packages (from ndlib) (0.8.3)\n",
      "Requirement already satisfied: networkx in c:\\users\\johna\\miniconda3\\lib\\site-packages (from ndlib) (2.5)\n",
      "Requirement already satisfied: scipy in c:\\users\\johna\\miniconda3\\lib\\site-packages (from ndlib) (1.5.0)\n",
      "Requirement already satisfied: numpy in c:\\users\\johna\\miniconda3\\lib\\site-packages (from ndlib) (1.19.0)\n",
      "Requirement already satisfied: bokeh in c:\\users\\johna\\miniconda3\\lib\\site-packages (from ndlib) (2.2.3)\n",
      "Requirement already satisfied: dynetx in c:\\users\\johna\\miniconda3\\lib\\site-packages (from ndlib) (0.2.3)\n",
      "Requirement already satisfied: PyYAML>=3.10 in c:\\users\\johna\\miniconda3\\lib\\site-packages (from bokeh->ndlib) (5.3.1)\n",
      "Requirement already satisfied: Jinja2>=2.7 in c:\\users\\johna\\miniconda3\\lib\\site-packages (from bokeh->ndlib) (2.11.2)\n",
      "Requirement already satisfied: python-dateutil>=2.1 in c:\\users\\johna\\miniconda3\\lib\\site-packages (from bokeh->ndlib) (2.8.1)\n",
      "Requirement already satisfied: pillow>=7.1.0 in c:\\users\\johna\\miniconda3\\lib\\site-packages (from bokeh->ndlib) (7.1.2)\n",
      "Requirement already satisfied: tornado>=5.1 in c:\\users\\johna\\miniconda3\\lib\\site-packages (from bokeh->ndlib) (6.0.4)\n",
      "Requirement already satisfied: packaging>=16.8 in c:\\users\\johna\\miniconda3\\lib\\site-packages (from bokeh->ndlib) (20.4)\n",
      "Requirement already satisfied: typing-extensions>=3.7.4 in c:\\users\\johna\\miniconda3\\lib\\site-packages (from bokeh->ndlib) (3.7.4.3)\n",
      "Requirement already satisfied: MarkupSafe>=0.23 in c:\\users\\johna\\miniconda3\\lib\\site-packages (from Jinja2>=2.7->bokeh->ndlib) (1.1.1)\n",
      "Requirement already satisfied: pyparsing>=2.0.2 in c:\\users\\johna\\miniconda3\\lib\\site-packages (from packaging>=16.8->bokeh->ndlib) (2.4.7)\n",
      "Requirement already satisfied: six in c:\\users\\johna\\miniconda3\\lib\\site-packages (from packaging>=16.8->bokeh->ndlib) (1.14.0)\n",
      "Requirement already satisfied: decorator>=4.3.0 in c:\\users\\johna\\miniconda3\\lib\\site-packages (from networkx->ndlib) (4.4.2)\n",
      "Requirement already satisfied: texttable>=1.6.2 in c:\\users\\johna\\miniconda3\\lib\\site-packages (from python-igraph->ndlib) (1.6.3)\n",
      "Requirement already satisfied: networkx in c:\\users\\johna\\miniconda3\\lib\\site-packages (2.5)\n",
      "Requirement already satisfied: decorator>=4.3.0 in c:\\users\\johna\\miniconda3\\lib\\site-packages (from networkx) (4.4.2)\n"
     ]
    }
   ],
   "source": [
    "# Install libraries \n",
    "!pip install ndlib\n",
    "!pip install networkx"
   ]
  },
  {
   "cell_type": "code",
   "execution_count": 2,
   "metadata": {},
   "outputs": [
    {
     "name": "stdout",
     "output_type": "stream",
     "text": [
      "3.7.7\n"
     ]
    }
   ],
   "source": [
    "from platform import python_version\n",
    "\n",
    "print(python_version())"
   ]
  },
  {
   "cell_type": "code",
   "execution_count": 4,
   "metadata": {},
   "outputs": [],
   "source": [
    "# Import modules\n",
    "from ndlib.models.CompositeModel import CompositeModel\n",
    "import ndlib.viz.mpl.DiffusionTrend\n",
    "import ndlib.models.ModelConfig as mc\n",
    "from ndlib.models.compartments.NodeStochastic import NodeStochastic as ns\n",
    "import collections\n",
    "import networkx as nx\n",
    "import matplotlib.pyplot as plt\n",
    "\n",
    "%matplotlib inline\n"
   ]
  },
  {
   "cell_type": "code",
   "execution_count": 5,
   "metadata": {},
   "outputs": [
    {
     "data": {
      "image/png": "[encoded data removed]",
      "text/plain": [
       "<Figure size 720x720 with 1 Axes>"
      ]
     },
     "metadata": {
      "needs_background": "light"
     },
     "output_type": "display_data"
    },
    {
     "name": "stderr",
     "output_type": "stream",
     "text": [
      "100%|██████████████████████████████████████████████████████████████████████████████| 1000/1000 [01:05<00:00, 15.22it/s]\n"
     ]
    },
    {
     "ename": "NameError",
     "evalue": "name 'DiffusionTrend' is not defined",
     "output_type": "error",
     "traceback": [
      "\u001b[1;31m---------------------------------------------------------------------------\u001b[0m",
      "\u001b[1;31mNameError\u001b[0m                                 Traceback (most recent call last)",
      "\u001b[1;32m<ipython-input-5-aff80e8d0cc7>\u001b[0m in \u001b[0;36m<module>\u001b[1;34m\u001b[0m\n\u001b[0;32m     62\u001b[0m \u001b[0miterations\u001b[0m \u001b[1;33m=\u001b[0m \u001b[0mmodel\u001b[0m\u001b[1;33m.\u001b[0m\u001b[0miteration_bunch\u001b[0m\u001b[1;33m(\u001b[0m\u001b[1;36m1000\u001b[0m\u001b[1;33m,\u001b[0m \u001b[0mnode_status\u001b[0m\u001b[1;33m=\u001b[0m\u001b[1;32mFalse\u001b[0m\u001b[1;33m)\u001b[0m\u001b[1;33m\u001b[0m\u001b[1;33m\u001b[0m\u001b[0m\n\u001b[0;32m     63\u001b[0m \u001b[0mtrends\u001b[0m \u001b[1;33m=\u001b[0m \u001b[0mmodel\u001b[0m\u001b[1;33m.\u001b[0m\u001b[0mbuild_trends\u001b[0m\u001b[1;33m(\u001b[0m\u001b[0miterations\u001b[0m\u001b[1;33m)\u001b[0m\u001b[1;33m\u001b[0m\u001b[1;33m\u001b[0m\u001b[0m\n\u001b[1;32m---> 64\u001b[1;33m \u001b[0mviz\u001b[0m \u001b[1;33m=\u001b[0m \u001b[0mDiffusionTrend\u001b[0m\u001b[1;33m(\u001b[0m\u001b[0mmodel\u001b[0m\u001b[1;33m,\u001b[0m \u001b[0mtrends\u001b[0m\u001b[1;33m)\u001b[0m\u001b[1;33m\u001b[0m\u001b[1;33m\u001b[0m\u001b[0m\n\u001b[0m\u001b[0;32m     65\u001b[0m \u001b[0mviz\u001b[0m\u001b[1;33m.\u001b[0m\u001b[0mplot\u001b[0m\u001b[1;33m(\u001b[0m\u001b[1;33m)\u001b[0m\u001b[1;33m\u001b[0m\u001b[1;33m\u001b[0m\u001b[0m\n\u001b[0;32m     66\u001b[0m \u001b[1;33m\u001b[0m\u001b[0m\n",
      "\u001b[1;31mNameError\u001b[0m: name 'DiffusionTrend' is not defined"
     ]
    }
   ],
   "source": [
    "# COVID19 model parameters - Change to expore different scnerios \n",
    "\n",
    "initial_infected =  0.05   # initial infection rate \n",
    "Transmission_rate = 0.064 # Transmission rate\n",
    "P_death = 0.0286  # Mortality rate\n",
    "P_recover = 1 - P_death  # Assume all that don't die recover\n",
    "minconnections = 10  # Minimum number of connections per Node\n",
    "\n",
    "# Generate a graph reprsenting a network of 1,000 people\n",
    "plt.rcParams[\"figure.figsize\"] = (10, 10)\n",
    "plt.rcParams.update({'font.size': 22})\n",
    "g = nx.barabasi_albert_graph(n=10000, m = minconnections)\n",
    "\n",
    "# Use the below to plot your network if desired!\n",
    "#pos = nx.spring_layout(g)\n",
    "#nx.draw_networkx(g, pos)\n",
    "#plt.show()\n",
    "\n",
    "# Plot distribution of node connections\n",
    "def plot_degree_distribution(G):\n",
    "    degree_sequence = sorted([d for n, d in G.degree()], reverse=True)  # degree sequence\n",
    "    degreeCount = collections.Counter(degree_sequence)\n",
    "    deg, cnt = zip(*degreeCount.items())\n",
    "    fig, ax = plt.subplots()\n",
    "    f = plt.bar(deg, cnt)\n",
    "    ax.set_xlabel('Number of Connections')\n",
    "    ax.set_ylabel('Frequency')\n",
    "    ax.set_yscale('log')\n",
    "    plt.show()\n",
    "\n",
    "plot_degree_distribution(g)\n",
    "\n",
    "\n",
    "# Composite model instantiation: Initialise possible status of graph nodes\n",
    "model = CompositeModel(g)\n",
    "model.add_status('Susceptible')\n",
    "model.add_status('Infected')\n",
    "model.add_status('Deceased')\n",
    "\n",
    "\n",
    "# Define compartments for model rules\n",
    "c1 = ns(Transmission_rate, triggering_status=\"Infected\")  # Note: Only infected nieghbours can trigger an infection \n",
    "c2 = ns(P_death)\n",
    "c3 = ns(P_recover)\n",
    "c4 = ns(0)\n",
    "\n",
    "\n",
    "# Rule definitions for COVID-19 transmission \n",
    "model.add_rule('Susceptible', 'Infected', c1)\n",
    "model.add_rule('Infected', 'Deceased', c2)\n",
    "model.add_rule('Infected', 'Susceptible', c3)\n",
    "model.add_rule('Susceptible', 'Deceased', c4)\n",
    "\n",
    "\n",
    "# Configuration \n",
    "config = mc.Configuration()\n",
    "config.add_model_parameter('percentage_infected', initial_infected)\n",
    "model.set_initial_status(config)\n",
    "\n",
    "\n",
    "# Simulation \n",
    "iterations = model.iteration_bunch(1000, node_status=False)\n",
    "trends = model.build_trends(iterations)\n",
    "viz = DiffusionTrend(model, trends)\n",
    "viz.plot()\n",
    "\n",
    "\n",
    "\n",
    "\n"
   ]
  },
  {
   "cell_type": "code",
   "execution_count": null,
   "metadata": {},
   "outputs": [],
   "source": [
    "\n"
   ]
  }
 ],
 "metadata": {
  "kernelspec": {
   "display_name": "Python 3",
   "language": "python",
   "name": "python3"
  },
  "language_info": {
   "codemirror_mode": {
    "name": "ipython",
    "version": 3
   },
   "file_extension": ".py",
   "mimetype": "text/x-python",
   "name": "python",
   "nbconvert_exporter": "python",
   "pygments_lexer": "ipython3",
   "version": "3.7.7"
  }
 },
 "nbformat": 4,
 "nbformat_minor": 4
}
